{
 "cells": [
  {
   "cell_type": "code",
   "execution_count": 1,
   "metadata": {
    "_cell_guid": "b1076dfc-b9ad-4769-8c92-a6c4dae69d19",
    "_uuid": "8f2839f25d086af736a60e9eeb907d3b93b6e0e5"
   },
   "outputs": [
    {
     "name": "stdout",
     "output_type": "stream",
     "text": [
      "/kaggle/input/avito-category-prediction/sample_submission.csv\n",
      "/kaggle/input/avito-category-prediction/train.csv\n",
      "/kaggle/input/avito-category-prediction/test.csv\n"
     ]
    }
   ],
   "source": [
    "# This Python 3 environment comes with many helpful analytics libraries installed\n",
    "# It is defined by the kaggle/python Docker image: https://github.com/kaggle/docker-python\n",
    "# For example, here's several helpful packages to load\n",
    "\n",
    "import numpy as np # linear algebra\n",
    "import pandas as pd # data processing, CSV file I/O (e.g. pd.read_csv)\n",
    "\n",
    "# Input data files are available in the read-only \"../input/\" directory\n",
    "# For example, running this (by clicking run or pressing Shift+Enter) will list all files under the input directory\n",
    "\n",
    "import os\n",
    "for dirname, _, filenames in os.walk('/kaggle/input'):\n",
    "    for filename in filenames:\n",
    "        print(os.path.join(dirname, filename))\n",
    "\n",
    "# You can write up to 20GB to the current directory (/kaggle/working/) that gets preserved as output when you create a version using \"Save & Run All\" \n",
    "# You can also write temporary files to /kaggle/temp/, but they won't be saved outside of the current session"
   ]
  },
  {
   "cell_type": "code",
   "execution_count": 2,
   "metadata": {},
   "outputs": [],
   "source": [
    "train = pd.read_csv('/kaggle/input/avito-category-prediction/train.csv')\n",
    "test = pd.read_csv('/kaggle/input/avito-category-prediction/test.csv')"
   ]
  },
  {
   "cell_type": "code",
   "execution_count": 3,
   "metadata": {},
   "outputs": [
    {
     "data": {
      "text/html": [
       "<div>\n",
       "<style scoped>\n",
       "    .dataframe tbody tr th:only-of-type {\n",
       "        vertical-align: middle;\n",
       "    }\n",
       "\n",
       "    .dataframe tbody tr th {\n",
       "        vertical-align: top;\n",
       "    }\n",
       "\n",
       "    .dataframe thead th {\n",
       "        text-align: right;\n",
       "    }\n",
       "</style>\n",
       "<table border=\"1\" class=\"dataframe\">\n",
       "  <thead>\n",
       "    <tr style=\"text-align: right;\">\n",
       "      <th></th>\n",
       "      <th>title</th>\n",
       "      <th>description</th>\n",
       "      <th>Category_name</th>\n",
       "      <th>Category</th>\n",
       "    </tr>\n",
       "  </thead>\n",
       "  <tbody>\n",
       "    <tr>\n",
       "      <th>0</th>\n",
       "      <td>Эбу Renault / Nissan 1,5 DCI Delphi 2001-2008 год</td>\n",
       "      <td>Комплект ЭБУ (мозги, компьютер мотора, двигате...</td>\n",
       "      <td>Запчасти и аксессуары</td>\n",
       "      <td>10</td>\n",
       "    </tr>\n",
       "    <tr>\n",
       "      <th>1</th>\n",
       "      <td>Утюг утп 1000 ватт СССР 1987 год</td>\n",
       "      <td>Продам/\\n Фото № 1-2 /\\n /\\nУтюг УТП 1000 ватт...</td>\n",
       "      <td>Бытовая техника</td>\n",
       "      <td>21</td>\n",
       "    </tr>\n",
       "    <tr>\n",
       "      <th>2</th>\n",
       "      <td>Возвму машину с выкупом</td>\n",
       "      <td>Возьму машину в аренду с последующим выкупом н...</td>\n",
       "      <td>Предложение услуг</td>\n",
       "      <td>114</td>\n",
       "    </tr>\n",
       "    <tr>\n",
       "      <th>3</th>\n",
       "      <td>Полусапожки</td>\n",
       "      <td>полусапожки в отличном состоянии, один раз оде...</td>\n",
       "      <td>Одежда, обувь, аксессуары</td>\n",
       "      <td>27</td>\n",
       "    </tr>\n",
       "    <tr>\n",
       "      <th>4</th>\n",
       "      <td>Босоножки кожаные</td>\n",
       "      <td>Кожаные(натур) босоножки Karlo Pasolini, 40 рр...</td>\n",
       "      <td>Одежда, обувь, аксессуары</td>\n",
       "      <td>27</td>\n",
       "    </tr>\n",
       "  </tbody>\n",
       "</table>\n",
       "</div>"
      ],
      "text/plain": [
       "                                               title  \\\n",
       "0  Эбу Renault / Nissan 1,5 DCI Delphi 2001-2008 год   \n",
       "1                   Утюг утп 1000 ватт СССР 1987 год   \n",
       "2                            Возвму машину с выкупом   \n",
       "3                                        Полусапожки   \n",
       "4                                  Босоножки кожаные   \n",
       "\n",
       "                                         description  \\\n",
       "0  Комплект ЭБУ (мозги, компьютер мотора, двигате...   \n",
       "1  Продам/\\n Фото № 1-2 /\\n /\\nУтюг УТП 1000 ватт...   \n",
       "2  Возьму машину в аренду с последующим выкупом н...   \n",
       "3  полусапожки в отличном состоянии, один раз оде...   \n",
       "4  Кожаные(натур) босоножки Karlo Pasolini, 40 рр...   \n",
       "\n",
       "               Category_name  Category  \n",
       "0      Запчасти и аксессуары        10  \n",
       "1            Бытовая техника        21  \n",
       "2          Предложение услуг       114  \n",
       "3  Одежда, обувь, аксессуары        27  \n",
       "4  Одежда, обувь, аксессуары        27  "
      ]
     },
     "execution_count": 3,
     "metadata": {},
     "output_type": "execute_result"
    }
   ],
   "source": [
    "train.head()"
   ]
  },
  {
   "cell_type": "markdown",
   "metadata": {},
   "source": [
    "**ЗАДАНИЕ 1**"
   ]
  },
  {
   "cell_type": "code",
   "execution_count": 4,
   "metadata": {},
   "outputs": [
    {
     "data": {
      "text/plain": [
       "title            0\n",
       "description      2\n",
       "Category_name    0\n",
       "Category         0\n",
       "dtype: int64"
      ]
     },
     "execution_count": 4,
     "metadata": {},
     "output_type": "execute_result"
    }
   ],
   "source": [
    "np.sum(train.isna())"
   ]
  },
  {
   "cell_type": "code",
   "execution_count": 5,
   "metadata": {},
   "outputs": [
    {
     "data": {
      "text/plain": [
       "title          0\n",
       "description    1\n",
       "itemid         0\n",
       "dtype: int64"
      ]
     },
     "execution_count": 5,
     "metadata": {},
     "output_type": "execute_result"
    }
   ],
   "source": [
    "np.sum(test.isna())"
   ]
  },
  {
   "cell_type": "markdown",
   "metadata": {},
   "source": [
    "и в train и в test есть пропуски, заполню пустой строкой"
   ]
  },
  {
   "cell_type": "code",
   "execution_count": 6,
   "metadata": {},
   "outputs": [],
   "source": [
    "from sklearn.impute import SimpleImputer"
   ]
  },
  {
   "cell_type": "code",
   "execution_count": 7,
   "metadata": {},
   "outputs": [],
   "source": [
    "train.loc[train.description.isna(), \"description\"] = \"\"\n",
    "test.loc[test.description.isna(), \"description\"] = \"\""
   ]
  },
  {
   "cell_type": "code",
   "execution_count": 8,
   "metadata": {},
   "outputs": [
    {
     "data": {
      "text/plain": [
       "title            0\n",
       "description      0\n",
       "Category_name    0\n",
       "Category         0\n",
       "dtype: int64"
      ]
     },
     "execution_count": 8,
     "metadata": {},
     "output_type": "execute_result"
    }
   ],
   "source": [
    "np.sum(train.isna())"
   ]
  },
  {
   "cell_type": "code",
   "execution_count": 9,
   "metadata": {},
   "outputs": [
    {
     "data": {
      "text/plain": [
       "title          0\n",
       "description    0\n",
       "itemid         0\n",
       "dtype: int64"
      ]
     },
     "execution_count": 9,
     "metadata": {},
     "output_type": "execute_result"
    }
   ],
   "source": [
    "np.sum(test.isna())"
   ]
  },
  {
   "cell_type": "markdown",
   "metadata": {},
   "source": [
    "**ЗАДАНИЕ 2**"
   ]
  },
  {
   "cell_type": "code",
   "execution_count": 10,
   "metadata": {},
   "outputs": [],
   "source": [
    "train[\"info\"] = train[\"title\"] + \" \" + train[\"description\"]\n",
    "test[\"info\"] = test[\"title\"] + \" \" + test[\"description\"]\n",
    "#train[\"info\"] = train[train.columns[0:1]].apply(lambda x: ' '.join(x.astype(str)), axis=1)\n",
    "#test[\"info\"] = train[test.columns[0:1]].apply(lambda x: ' '.join(x.astype(str)), axis=1)"
   ]
  },
  {
   "cell_type": "code",
   "execution_count": 11,
   "metadata": {},
   "outputs": [],
   "source": [
    "train = train.drop([\"title\", \"description\"], axis=1)\n",
    "test = test.drop([\"title\", \"description\"], axis=1)"
   ]
  },
  {
   "cell_type": "code",
   "execution_count": 12,
   "metadata": {},
   "outputs": [
    {
     "data": {
      "text/html": [
       "<div>\n",
       "<style scoped>\n",
       "    .dataframe tbody tr th:only-of-type {\n",
       "        vertical-align: middle;\n",
       "    }\n",
       "\n",
       "    .dataframe tbody tr th {\n",
       "        vertical-align: top;\n",
       "    }\n",
       "\n",
       "    .dataframe thead th {\n",
       "        text-align: right;\n",
       "    }\n",
       "</style>\n",
       "<table border=\"1\" class=\"dataframe\">\n",
       "  <thead>\n",
       "    <tr style=\"text-align: right;\">\n",
       "      <th></th>\n",
       "      <th>Category_name</th>\n",
       "      <th>Category</th>\n",
       "      <th>info</th>\n",
       "    </tr>\n",
       "  </thead>\n",
       "  <tbody>\n",
       "    <tr>\n",
       "      <th>0</th>\n",
       "      <td>Запчасти и аксессуары</td>\n",
       "      <td>10</td>\n",
       "      <td>Эбу Renault / Nissan 1,5 DCI Delphi 2001-2008 ...</td>\n",
       "    </tr>\n",
       "    <tr>\n",
       "      <th>1</th>\n",
       "      <td>Бытовая техника</td>\n",
       "      <td>21</td>\n",
       "      <td>Утюг утп 1000 ватт СССР 1987 год Продам/\\n Фот...</td>\n",
       "    </tr>\n",
       "    <tr>\n",
       "      <th>2</th>\n",
       "      <td>Предложение услуг</td>\n",
       "      <td>114</td>\n",
       "      <td>Возвму машину с выкупом Возьму машину в аренду...</td>\n",
       "    </tr>\n",
       "    <tr>\n",
       "      <th>3</th>\n",
       "      <td>Одежда, обувь, аксессуары</td>\n",
       "      <td>27</td>\n",
       "      <td>Полусапожки полусапожки в отличном состоянии, ...</td>\n",
       "    </tr>\n",
       "    <tr>\n",
       "      <th>4</th>\n",
       "      <td>Одежда, обувь, аксессуары</td>\n",
       "      <td>27</td>\n",
       "      <td>Босоножки кожаные Кожаные(натур) босоножки Kar...</td>\n",
       "    </tr>\n",
       "  </tbody>\n",
       "</table>\n",
       "</div>"
      ],
      "text/plain": [
       "               Category_name  Category  \\\n",
       "0      Запчасти и аксессуары        10   \n",
       "1            Бытовая техника        21   \n",
       "2          Предложение услуг       114   \n",
       "3  Одежда, обувь, аксессуары        27   \n",
       "4  Одежда, обувь, аксессуары        27   \n",
       "\n",
       "                                                info  \n",
       "0  Эбу Renault / Nissan 1,5 DCI Delphi 2001-2008 ...  \n",
       "1  Утюг утп 1000 ватт СССР 1987 год Продам/\\n Фот...  \n",
       "2  Возвму машину с выкупом Возьму машину в аренду...  \n",
       "3  Полусапожки полусапожки в отличном состоянии, ...  \n",
       "4  Босоножки кожаные Кожаные(натур) босоножки Kar...  "
      ]
     },
     "execution_count": 12,
     "metadata": {},
     "output_type": "execute_result"
    }
   ],
   "source": [
    "train.head()"
   ]
  },
  {
   "cell_type": "code",
   "execution_count": 13,
   "metadata": {},
   "outputs": [
    {
     "data": {
      "text/html": [
       "<div>\n",
       "<style scoped>\n",
       "    .dataframe tbody tr th:only-of-type {\n",
       "        vertical-align: middle;\n",
       "    }\n",
       "\n",
       "    .dataframe tbody tr th {\n",
       "        vertical-align: top;\n",
       "    }\n",
       "\n",
       "    .dataframe thead th {\n",
       "        text-align: right;\n",
       "    }\n",
       "</style>\n",
       "<table border=\"1\" class=\"dataframe\">\n",
       "  <thead>\n",
       "    <tr style=\"text-align: right;\">\n",
       "      <th></th>\n",
       "      <th>itemid</th>\n",
       "      <th>info</th>\n",
       "    </tr>\n",
       "  </thead>\n",
       "  <tbody>\n",
       "    <tr>\n",
       "      <th>0</th>\n",
       "      <td>1778449823</td>\n",
       "      <td>Мастерка Мастерка фирмы форвард. Белого цвета....</td>\n",
       "    </tr>\n",
       "    <tr>\n",
       "      <th>1</th>\n",
       "      <td>1677656962</td>\n",
       "      <td>Зимние сапоги Продаю зимние сапоги, в хорошем ...</td>\n",
       "    </tr>\n",
       "    <tr>\n",
       "      <th>2</th>\n",
       "      <td>1758182804</td>\n",
       "      <td>Видеонаблюдение 8 камер В комплект Atis AMD-2M...</td>\n",
       "    </tr>\n",
       "    <tr>\n",
       "      <th>3</th>\n",
       "      <td>1689811299</td>\n",
       "      <td>Запчасти для GLE Запчасти GLE</td>\n",
       "    </tr>\n",
       "    <tr>\n",
       "      <th>4</th>\n",
       "      <td>1804706240</td>\n",
       "      <td>Бластер nerf Состояние 5+/\\nПродаю потому что ...</td>\n",
       "    </tr>\n",
       "  </tbody>\n",
       "</table>\n",
       "</div>"
      ],
      "text/plain": [
       "       itemid                                               info\n",
       "0  1778449823  Мастерка Мастерка фирмы форвард. Белого цвета....\n",
       "1  1677656962  Зимние сапоги Продаю зимние сапоги, в хорошем ...\n",
       "2  1758182804  Видеонаблюдение 8 камер В комплект Atis AMD-2M...\n",
       "3  1689811299                      Запчасти для GLE Запчасти GLE\n",
       "4  1804706240  Бластер nerf Состояние 5+/\\nПродаю потому что ..."
      ]
     },
     "execution_count": 13,
     "metadata": {},
     "output_type": "execute_result"
    }
   ],
   "source": [
    "test.head()"
   ]
  },
  {
   "cell_type": "markdown",
   "metadata": {},
   "source": [
    "**ЗАДАНИЕ 3**"
   ]
  },
  {
   "cell_type": "code",
   "execution_count": 14,
   "metadata": {},
   "outputs": [
    {
     "data": {
      "text/plain": [
       "50"
      ]
     },
     "execution_count": 14,
     "metadata": {},
     "output_type": "execute_result"
    }
   ],
   "source": [
    "len(train[\"Category\"].unique())"
   ]
  },
  {
   "cell_type": "markdown",
   "metadata": {},
   "source": [
    "значит всего 50 уникальцых классов"
   ]
  },
  {
   "cell_type": "code",
   "execution_count": 15,
   "metadata": {},
   "outputs": [
    {
     "name": "stdout",
     "output_type": "stream",
     "text": [
      "Populating the interactive namespace from numpy and matplotlib\n"
     ]
    },
    {
     "name": "stderr",
     "output_type": "stream",
     "text": [
      "/opt/conda/lib/python3.7/site-packages/IPython/core/magics/pylab.py:160: UserWarning: pylab import has clobbered these variables: ['test']\n",
      "`%matplotlib` prevents importing * from pylab and numpy\n",
      "  \"\\n`%matplotlib` prevents importing * from pylab and numpy\"\n"
     ]
    }
   ],
   "source": [
    "from matplotlib import pyplot as plt\n",
    "import seaborn as sns\n",
    "%pylab inline"
   ]
  },
  {
   "cell_type": "code",
   "execution_count": 16,
   "metadata": {},
   "outputs": [
    {
     "data": {
      "image/png": "[encoded data removed]",
      "text/plain": [
       "<Figure size 720x720 with 1 Axes>"
      ]
     },
     "metadata": {
      "needs_background": "light"
     },
     "output_type": "display_data"
    }
   ],
   "source": [
    "plt.figure(figsize=(10,10))\n",
    "sns.histplot(data=train, y=\"Category_name\", stat=\"probability\")\n",
    "plt.title(\"Class distribution\")\n",
    "plt.show()"
   ]
  },
  {
   "cell_type": "markdown",
   "metadata": {},
   "source": [
    "В датасете сильно преобладают три класса \"Запчасти и аксессуары\",\n",
    "\"Одежда, обувь, аксессуары\" и \"Детская одежда и обувь\", их доли составляют примерно 0.8, 0.75 и 0.137\n",
    "соответственно.\n",
    "Самые маленькие доли составляют \"Недвижимость за рубежом\", \"Птицы\" и \"Готовый бизнес\".\n",
    "(Доли этих классов настолько малы, что из графика сложно понять, какую именно долю они составляют)"
   ]
  },
  {
   "cell_type": "markdown",
   "metadata": {},
   "source": [
    "**ЗАДАНИЕ 4**"
   ]
  },
  {
   "cell_type": "code",
   "execution_count": 17,
   "metadata": {},
   "outputs": [],
   "source": [
    "from sklearn.feature_extraction.text import CountVectorizer\n",
    "cnt_vec = CountVectorizer()\n",
    "X = cnt_vec.fit_transform(train[\"info\"])"
   ]
  },
  {
   "cell_type": "code",
   "execution_count": 18,
   "metadata": {},
   "outputs": [
    {
     "data": {
      "text/plain": [
       "<4234042x2125805 sparse matrix of type '<class 'numpy.int64'>'\n",
       "\twith 150918485 stored elements in Compressed Sparse Row format>"
      ]
     },
     "execution_count": 18,
     "metadata": {},
     "output_type": "execute_result"
    }
   ],
   "source": [
    "X"
   ]
  },
  {
   "cell_type": "markdown",
   "metadata": {},
   "source": [
    "После применения CountVectorizer получается матрица размера 4234042 на 469015"
   ]
  },
  {
   "cell_type": "markdown",
   "metadata": {},
   "source": [
    "**ЗАДАНИЕ 5**"
   ]
  },
  {
   "cell_type": "code",
   "execution_count": 19,
   "metadata": {},
   "outputs": [],
   "source": [
    "import re"
   ]
  },
  {
   "cell_type": "code",
   "execution_count": 20,
   "metadata": {
    "_kg_hide-output": true
   },
   "outputs": [
    {
     "name": "stdout",
     "output_type": "stream",
     "text": [
      "1225139\n"
     ]
    }
   ],
   "source": [
    "scheme = re.compile(\"[0-9]+[А-Яа-яёA-Za-z]*\")\n",
    "tmp = scheme.findall(str(cnt_vec.vocabulary_.keys()))\n",
    "print(len(tmp))"
   ]
  },
  {
   "cell_type": "markdown",
   "metadata": {},
   "source": [
    "То есть всего 1225139 слов, которые начинаются с цифр"
   ]
  },
  {
   "cell_type": "code",
   "execution_count": 21,
   "metadata": {},
   "outputs": [
    {
     "name": "stdout",
     "output_type": "stream",
     "text": [
      "8510461\n"
     ]
    }
   ],
   "source": [
    "#import string\n",
    "scheme_2 = re.compile(\"[^A-Za-zА-Яа-яё0-9_]\") # \\W+\n",
    "tmp_2 = scheme_2.findall(str(cnt_vec.vocabulary_.keys()))\n",
    "print(len(tmp_2))"
   ]
  },
  {
   "cell_type": "markdown",
   "metadata": {},
   "source": [
    "То есть всего 1225139 слов, которые начинаются с цифр"
   ]
  },
  {
   "cell_type": "code",
   "execution_count": 22,
   "metadata": {},
   "outputs": [
    {
     "name": "stdout",
     "output_type": "stream",
     "text": [
      "1\n"
     ]
    }
   ],
   "source": [
    "print(len(tmp_2[0]))"
   ]
  },
  {
   "cell_type": "markdown",
   "metadata": {},
   "source": [
    "**ЗАДАНИЕ 6**"
   ]
  },
  {
   "cell_type": "code",
   "execution_count": 23,
   "metadata": {},
   "outputs": [],
   "source": [
    "from nltk.tokenize import word_tokenize\n",
    "from string import punctuation\n",
    "from nltk.corpus import stopwords\n",
    "from nltk.stem.snowball import SnowballStemmer"
   ]
  },
  {
   "cell_type": "code",
   "execution_count": 24,
   "metadata": {},
   "outputs": [],
   "source": [
    "def my_tokenizer(string: str) -> list:\n",
    "    # 0)\n",
    "    string = string.lower()\n",
    "    # 1)\n",
    "    list = word_tokenize(string)\n",
    "    # 2)\n",
    "    list = [token for token in list\n",
    "            if not np.sum([(char in punctuation + \"0123456789\") for char in token])]\n",
    "    # 3)\n",
    "    sw = stopwords.words('russian')\n",
    "    list = [token for token in list if not(token in sw)]\n",
    "    # 4)\n",
    "    stemmer = SnowballStemmer(\"russian\")\n",
    "    list = [stemmer.stem(token) for token in list]\n",
    "    return list"
   ]
  },
  {
   "cell_type": "markdown",
   "metadata": {},
   "source": [
    "Демонстрация работы функции:"
   ]
  },
  {
   "cell_type": "code",
   "execution_count": 25,
   "metadata": {
    "scrolled": true
   },
   "outputs": [
    {
     "data": {
      "text/plain": [
       "['эб',\n",
       " 'renault',\n",
       " 'nissa',\n",
       " 'dci',\n",
       " 'delph',\n",
       " 'год',\n",
       " 'комплект',\n",
       " 'эб',\n",
       " 'мозг',\n",
       " 'компьютер',\n",
       " 'мотор',\n",
       " 'двигател',\n",
       " 'коммутатор',\n",
       " 'электрон',\n",
       " 'блок',\n",
       " 'управлен',\n",
       " 'двигател',\n",
       " 'компьютер',\n",
       " 'мотор',\n",
       " 'рен',\n",
       " 'kango',\n",
       " 'канг',\n",
       " 'канг',\n",
       " 'мега',\n",
       " 'сценик',\n",
       " 'lagun',\n",
       " 'лагун',\n",
       " 'cli',\n",
       " 'кли',\n",
       " 'nissa',\n",
       " 'micr',\n",
       " 'нисса',\n",
       " 'микр',\n",
       " 'друг',\n",
       " 'рен',\n",
       " 'нисса',\n",
       " 'дизел',\n",
       " 'топливн',\n",
       " 'аппаратур',\n",
       " 'делф',\n",
       " 'оригина',\n",
       " 'отличн',\n",
       " 'состоян',\n",
       " 'проверен',\n",
       " 'гарант',\n",
       " 'запчаст',\n",
       " 'предоставля',\n",
       " 'гарант',\n",
       " 'возможн',\n",
       " 'установк',\n",
       " 'подробн',\n",
       " '—',\n",
       " 'раздел',\n",
       " '«',\n",
       " 'компан',\n",
       " '»',\n",
       " 'дорож',\n",
       " 'сво',\n",
       " 'репутац',\n",
       " 'торгу',\n",
       " 'легальн',\n",
       " 'контрактн',\n",
       " 'запчаст',\n",
       " 'дета',\n",
       " 'налич',\n",
       " 'таможен',\n",
       " 'документ',\n",
       " 'запчаст',\n",
       " 'автомобил',\n",
       " 'пробег',\n",
       " 'росс',\n",
       " 'отправля',\n",
       " 'друг',\n",
       " 'регион',\n",
       " 'таможен',\n",
       " 'союз',\n",
       " 'транспортн',\n",
       " 'компан',\n",
       " 'наложн',\n",
       " 'платеж']"
      ]
     },
     "execution_count": 25,
     "metadata": {},
     "output_type": "execute_result"
    }
   ],
   "source": [
    "my_tokenizer(train[\"info\"][0])"
   ]
  },
  {
   "cell_type": "markdown",
   "metadata": {},
   "source": [
    "**ЗАДАНИЕ 7**"
   ]
  },
  {
   "cell_type": "code",
   "execution_count": 26,
   "metadata": {},
   "outputs": [
    {
     "data": {
      "text/html": [
       "<div>\n",
       "<style scoped>\n",
       "    .dataframe tbody tr th:only-of-type {\n",
       "        vertical-align: middle;\n",
       "    }\n",
       "\n",
       "    .dataframe tbody tr th {\n",
       "        vertical-align: top;\n",
       "    }\n",
       "\n",
       "    .dataframe thead th {\n",
       "        text-align: right;\n",
       "    }\n",
       "</style>\n",
       "<table border=\"1\" class=\"dataframe\">\n",
       "  <thead>\n",
       "    <tr style=\"text-align: right;\">\n",
       "      <th></th>\n",
       "      <th>Category_name</th>\n",
       "      <th>Category</th>\n",
       "      <th>info</th>\n",
       "    </tr>\n",
       "  </thead>\n",
       "  <tbody>\n",
       "    <tr>\n",
       "      <th>231113</th>\n",
       "      <td>Растения</td>\n",
       "      <td>106</td>\n",
       "      <td>Пеларгония герань Продаётся укоренённые черенк...</td>\n",
       "    </tr>\n",
       "    <tr>\n",
       "      <th>956282</th>\n",
       "      <td>Одежда, обувь, аксессуары</td>\n",
       "      <td>27</td>\n",
       "      <td>Чемодан на колёсах Roxy Чемодан на колёсах rox...</td>\n",
       "    </tr>\n",
       "    <tr>\n",
       "      <th>2692691</th>\n",
       "      <td>Предложение услуг</td>\n",
       "      <td>114</td>\n",
       "      <td>Грузоперевозки Грузоперевозки и переезды по Ро...</td>\n",
       "    </tr>\n",
       "    <tr>\n",
       "      <th>1800877</th>\n",
       "      <td>Детская одежда и обувь</td>\n",
       "      <td>29</td>\n",
       "      <td>Конверт-кокон В отличном состоянии. Прекрасно ...</td>\n",
       "    </tr>\n",
       "    <tr>\n",
       "      <th>561754</th>\n",
       "      <td>Телефоны</td>\n",
       "      <td>84</td>\n",
       "      <td>Коробка iPhone 3G Хор. состояние</td>\n",
       "    </tr>\n",
       "  </tbody>\n",
       "</table>\n",
       "</div>"
      ],
      "text/plain": [
       "                     Category_name  Category  \\\n",
       "231113                    Растения       106   \n",
       "956282   Одежда, обувь, аксессуары        27   \n",
       "2692691          Предложение услуг       114   \n",
       "1800877     Детская одежда и обувь        29   \n",
       "561754                    Телефоны        84   \n",
       "\n",
       "                                                      info  \n",
       "231113   Пеларгония герань Продаётся укоренённые черенк...  \n",
       "956282   Чемодан на колёсах Roxy Чемодан на колёсах rox...  \n",
       "2692691  Грузоперевозки Грузоперевозки и переезды по Ро...  \n",
       "1800877  Конверт-кокон В отличном состоянии. Прекрасно ...  \n",
       "561754                    Коробка iPhone 3G Хор. состояние  "
      ]
     },
     "execution_count": 26,
     "metadata": {},
     "output_type": "execute_result"
    }
   ],
   "source": [
    "np.random.seed(12345)\n",
    "batch_train = train.sample(100000)\n",
    "batch_train.head()"
   ]
  },
  {
   "cell_type": "code",
   "execution_count": 27,
   "metadata": {},
   "outputs": [],
   "source": [
    "from sklearn.model_selection import train_test_split\n",
    "from sklearn.preprocessing import MaxAbsScaler\n",
    "from sklearn.linear_model import SGDClassifier\n",
    "from sklearn.metrics import classification_report"
   ]
  },
  {
   "cell_type": "code",
   "execution_count": 28,
   "metadata": {},
   "outputs": [],
   "source": [
    "np.random.seed(12345)\n",
    "X_train, X_test, y_train, y_test = train_test_split(batch_train[\"info\"],\n",
    "                                                    batch_train[\"Category\"],\n",
    "                                                    test_size=0.2)"
   ]
  },
  {
   "cell_type": "code",
   "execution_count": 29,
   "metadata": {},
   "outputs": [],
   "source": [
    "my_vec = CountVectorizer(tokenizer=my_tokenizer)\n",
    "bow = my_vec.fit_transform(X_train)\n",
    "bow_test = my_vec.transform(X_test)"
   ]
  },
  {
   "cell_type": "code",
   "execution_count": 30,
   "metadata": {},
   "outputs": [],
   "source": [
    "scaler = MaxAbsScaler()\n",
    "bow = scaler.fit_transform(bow)\n",
    "bow_test = scaler.transform(bow_test)"
   ]
  },
  {
   "cell_type": "code",
   "execution_count": 31,
   "metadata": {},
   "outputs": [],
   "source": [
    "sgd = SGDClassifier(loss='modified_huber')\n",
    "sgd.fit(bow, y_train)\n",
    "sgd_y_pred_train = sgd.predict(bow)\n",
    "sgd_y_pred = sgd.predict(bow_test)"
   ]
  },
  {
   "cell_type": "code",
   "execution_count": 32,
   "metadata": {},
   "outputs": [
    {
     "name": "stdout",
     "output_type": "stream",
     "text": [
      "Train:  0.9244\n",
      "Test:  0.80985\n"
     ]
    }
   ],
   "source": [
    "print(\"Train: \", np.mean(sgd_y_pred_train==y_train))\n",
    "print(\"Test: \", np.mean(sgd_y_pred==y_test))"
   ]
  },
  {
   "cell_type": "code",
   "execution_count": 33,
   "metadata": {
    "scrolled": true
   },
   "outputs": [
    {
     "name": "stdout",
     "output_type": "stream",
     "text": [
      "              precision    recall  f1-score   support\n",
      "\n",
      "           9       0.88      0.88      0.88       585\n",
      "          10       0.86      0.96      0.91      3579\n",
      "          11       0.58      0.37      0.45        19\n",
      "          14       0.90      0.34      0.49        56\n",
      "          19       0.73      0.64      0.68       613\n",
      "          20       0.75      0.71      0.73       743\n",
      "          21       0.75      0.68      0.71       357\n",
      "          23       1.00      0.87      0.93        62\n",
      "          24       0.99      0.99      0.99       666\n",
      "          25       1.00      0.98      0.99       236\n",
      "          26       1.00      0.99      1.00       120\n",
      "          27       0.74      0.90      0.81      3600\n",
      "          28       0.88      0.78      0.83       289\n",
      "          29       0.82      0.83      0.82      2730\n",
      "          30       0.76      0.76      0.76       998\n",
      "          31       0.82      0.59      0.69        63\n",
      "          32       0.80      0.72      0.76       396\n",
      "          33       0.67      0.40      0.50        10\n",
      "          34       0.91      0.50      0.65       105\n",
      "          36       0.67      0.55      0.60       456\n",
      "          38       0.84      0.61      0.71        77\n",
      "          39       0.81      0.55      0.65       386\n",
      "          40       0.70      0.33      0.45       175\n",
      "          42       0.94      0.88      0.91        99\n",
      "          81       0.77      0.36      0.49        95\n",
      "          82       0.81      0.72      0.76        83\n",
      "          83       0.85      0.73      0.78       257\n",
      "          84       0.82      0.88      0.85       534\n",
      "          85       0.93      0.96      0.94        67\n",
      "          86       0.00      0.00      0.00         1\n",
      "          87       0.74      0.59      0.65       208\n",
      "          88       0.79      0.60      0.68       341\n",
      "          89       0.84      0.71      0.77        58\n",
      "          90       0.89      0.94      0.92        69\n",
      "          91       0.40      0.17      0.24        12\n",
      "          92       0.83      0.42      0.56        24\n",
      "          93       0.79      0.53      0.64        64\n",
      "          94       0.73      0.46      0.56        72\n",
      "          96       0.85      0.62      0.72        64\n",
      "          97       0.88      0.73      0.79       117\n",
      "          98       0.82      0.62      0.71        82\n",
      "          99       0.87      0.59      0.70        98\n",
      "         101       0.80      0.62      0.70       341\n",
      "         102       0.65      0.23      0.34        56\n",
      "         105       0.84      0.81      0.82       101\n",
      "         106       0.92      0.80      0.86       102\n",
      "         111       0.96      0.91      0.93       124\n",
      "         112       0.78      0.56      0.65        62\n",
      "         114       0.79      0.74      0.76       527\n",
      "         116       0.88      0.33      0.48        21\n",
      "\n",
      "    accuracy                           0.81     20000\n",
      "   macro avg       0.80      0.65      0.70     20000\n",
      "weighted avg       0.81      0.81      0.80     20000\n",
      "\n"
     ]
    },
    {
     "name": "stderr",
     "output_type": "stream",
     "text": [
      "/opt/conda/lib/python3.7/site-packages/sklearn/metrics/_classification.py:1245: UndefinedMetricWarning: Precision and F-score are ill-defined and being set to 0.0 in labels with no predicted samples. Use `zero_division` parameter to control this behavior.\n",
      "  _warn_prf(average, modifier, msg_start, len(result))\n",
      "/opt/conda/lib/python3.7/site-packages/sklearn/metrics/_classification.py:1245: UndefinedMetricWarning: Precision and F-score are ill-defined and being set to 0.0 in labels with no predicted samples. Use `zero_division` parameter to control this behavior.\n",
      "  _warn_prf(average, modifier, msg_start, len(result))\n",
      "/opt/conda/lib/python3.7/site-packages/sklearn/metrics/_classification.py:1245: UndefinedMetricWarning: Precision and F-score are ill-defined and being set to 0.0 in labels with no predicted samples. Use `zero_division` parameter to control this behavior.\n",
      "  _warn_prf(average, modifier, msg_start, len(result))\n"
     ]
    }
   ],
   "source": [
    "print(classification_report(y_test, sgd_y_pred))"
   ]
  },
  {
   "cell_type": "markdown",
   "metadata": {},
   "source": [
    "**ЗАДАНИЕ 8**"
   ]
  },
  {
   "cell_type": "code",
   "execution_count": 34,
   "metadata": {},
   "outputs": [],
   "source": [
    "from sklearn.feature_extraction.text import TfidfVectorizer"
   ]
  },
  {
   "cell_type": "code",
   "execution_count": 35,
   "metadata": {},
   "outputs": [],
   "source": [
    "tfidf_vec = TfidfVectorizer(tokenizer=my_tokenizer)\n",
    "tfidf = tfidf_vec.fit_transform(X_train)\n",
    "tfidf_test = tfidf_vec.transform(X_test)"
   ]
  },
  {
   "cell_type": "code",
   "execution_count": 36,
   "metadata": {},
   "outputs": [],
   "source": [
    "scaler_tfidf = MaxAbsScaler()\n",
    "tfidf = scaler_tfidf.fit_transform(tfidf)\n",
    "tfidf_test = scaler_tfidf.transform(tfidf_test)"
   ]
  },
  {
   "cell_type": "code",
   "execution_count": 37,
   "metadata": {},
   "outputs": [],
   "source": [
    "sgd_tfidf = SGDClassifier(loss='modified_huber')\n",
    "sgd_tfidf.fit(tfidf, y_train)\n",
    "sgd_tfidf_y_pred_train = sgd_tfidf.predict(tfidf)\n",
    "sgd_tfidf_y_pred = sgd_tfidf.predict(tfidf_test)"
   ]
  },
  {
   "cell_type": "code",
   "execution_count": 38,
   "metadata": {},
   "outputs": [
    {
     "name": "stdout",
     "output_type": "stream",
     "text": [
      "Train:  0.9559\n",
      "Test:  0.85605\n"
     ]
    }
   ],
   "source": [
    "print(\"Train: \", np.mean(sgd_tfidf_y_pred_train==y_train))\n",
    "print(\"Test: \", np.mean(sgd_tfidf_y_pred==y_test))"
   ]
  },
  {
   "cell_type": "code",
   "execution_count": 39,
   "metadata": {
    "scrolled": true
   },
   "outputs": [
    {
     "name": "stdout",
     "output_type": "stream",
     "text": [
      "              precision    recall  f1-score   support\n",
      "\n",
      "           9       0.92      0.92      0.92       585\n",
      "          10       0.92      0.96      0.94      3579\n",
      "          11       0.75      0.63      0.69        19\n",
      "          14       0.93      0.48      0.64        56\n",
      "          19       0.72      0.79      0.76       613\n",
      "          20       0.79      0.80      0.80       743\n",
      "          21       0.83      0.80      0.82       357\n",
      "          23       1.00      0.94      0.97        62\n",
      "          24       0.99      0.99      0.99       666\n",
      "          25       1.00      0.97      0.99       236\n",
      "          26       0.99      0.99      0.99       120\n",
      "          27       0.84      0.90      0.87      3600\n",
      "          28       0.90      0.87      0.88       289\n",
      "          29       0.85      0.85      0.85      2730\n",
      "          30       0.79      0.82      0.81       998\n",
      "          31       0.76      0.59      0.66        63\n",
      "          32       0.80      0.84      0.82       396\n",
      "          33       0.55      0.60      0.57        10\n",
      "          34       0.93      0.74      0.83       105\n",
      "          36       0.67      0.63      0.65       456\n",
      "          38       0.89      0.71      0.79        77\n",
      "          39       0.78      0.65      0.71       386\n",
      "          40       0.69      0.44      0.54       175\n",
      "          42       0.94      0.91      0.92        99\n",
      "          81       0.81      0.48      0.61        95\n",
      "          82       0.80      0.71      0.75        83\n",
      "          83       0.88      0.85      0.87       257\n",
      "          84       0.89      0.94      0.92       534\n",
      "          85       0.98      0.97      0.98        67\n",
      "          86       0.00      0.00      0.00         1\n",
      "          87       0.76      0.75      0.75       208\n",
      "          88       0.78      0.75      0.77       341\n",
      "          89       0.86      0.84      0.85        58\n",
      "          90       0.96      0.94      0.95        69\n",
      "          91       0.71      0.42      0.53        12\n",
      "          92       0.82      0.75      0.78        24\n",
      "          93       0.89      0.62      0.73        64\n",
      "          94       0.72      0.60      0.65        72\n",
      "          96       0.88      0.66      0.75        64\n",
      "          97       0.89      0.79      0.84       117\n",
      "          98       0.93      0.82      0.87        82\n",
      "          99       0.77      0.65      0.71        98\n",
      "         101       0.83      0.78      0.81       341\n",
      "         102       0.62      0.36      0.45        56\n",
      "         105       0.91      0.86      0.88       101\n",
      "         106       0.87      0.85      0.86       102\n",
      "         111       0.93      0.90      0.92       124\n",
      "         112       0.92      0.55      0.69        62\n",
      "         114       0.83      0.79      0.81       527\n",
      "         116       0.83      0.48      0.61        21\n",
      "\n",
      "    accuracy                           0.86     20000\n",
      "   macro avg       0.83      0.74      0.77     20000\n",
      "weighted avg       0.85      0.86      0.85     20000\n",
      "\n"
     ]
    },
    {
     "name": "stderr",
     "output_type": "stream",
     "text": [
      "/opt/conda/lib/python3.7/site-packages/sklearn/metrics/_classification.py:1245: UndefinedMetricWarning: Precision and F-score are ill-defined and being set to 0.0 in labels with no predicted samples. Use `zero_division` parameter to control this behavior.\n",
      "  _warn_prf(average, modifier, msg_start, len(result))\n",
      "/opt/conda/lib/python3.7/site-packages/sklearn/metrics/_classification.py:1245: UndefinedMetricWarning: Precision and F-score are ill-defined and being set to 0.0 in labels with no predicted samples. Use `zero_division` parameter to control this behavior.\n",
      "  _warn_prf(average, modifier, msg_start, len(result))\n",
      "/opt/conda/lib/python3.7/site-packages/sklearn/metrics/_classification.py:1245: UndefinedMetricWarning: Precision and F-score are ill-defined and being set to 0.0 in labels with no predicted samples. Use `zero_division` parameter to control this behavior.\n",
      "  _warn_prf(average, modifier, msg_start, len(result))\n"
     ]
    }
   ],
   "source": [
    "print(classification_report(y_test, sgd_tfidf_y_pred))"
   ]
  },
  {
   "cell_type": "code",
   "execution_count": 40,
   "metadata": {},
   "outputs": [],
   "source": [
    "tfidf_vec_2 = TfidfVectorizer(tokenizer=my_tokenizer, max_df=0.9)\n",
    "tfidf_2 = tfidf_vec_2.fit_transform(X_train)\n",
    "tfidf_test_2 = tfidf_vec_2.transform(X_test)"
   ]
  },
  {
   "cell_type": "code",
   "execution_count": 41,
   "metadata": {},
   "outputs": [],
   "source": [
    "scaler_tfidf_2 = MaxAbsScaler()\n",
    "tfidf_2 = scaler_tfidf_2.fit_transform(tfidf_2)\n",
    "tfidf_test_2 = scaler_tfidf_2.transform(tfidf_test_2)"
   ]
  },
  {
   "cell_type": "code",
   "execution_count": 42,
   "metadata": {},
   "outputs": [],
   "source": [
    "sgd_tfidf_2 = SGDClassifier(loss='modified_huber')\n",
    "sgd_tfidf_2.fit(tfidf_2, y_train)\n",
    "sgd_tfidf_y_pred_train_2 = sgd_tfidf_2.predict(tfidf_2)\n",
    "sgd_tfidf_y_pred_2 = sgd_tfidf_2.predict(tfidf_test_2)"
   ]
  },
  {
   "cell_type": "code",
   "execution_count": 43,
   "metadata": {},
   "outputs": [
    {
     "name": "stdout",
     "output_type": "stream",
     "text": [
      "Train:  0.956125\n",
      "Test:  0.8559\n"
     ]
    }
   ],
   "source": [
    "print(\"Train: \", np.mean(sgd_tfidf_y_pred_train_2==y_train))\n",
    "print(\"Test: \", np.mean(sgd_tfidf_y_pred_2==y_test))"
   ]
  },
  {
   "cell_type": "code",
   "execution_count": 44,
   "metadata": {
    "scrolled": true
   },
   "outputs": [
    {
     "name": "stdout",
     "output_type": "stream",
     "text": [
      "              precision    recall  f1-score   support\n",
      "\n",
      "           9       0.92      0.92      0.92       585\n",
      "          10       0.92      0.96      0.94      3579\n",
      "          11       0.75      0.63      0.69        19\n",
      "          14       0.90      0.50      0.64        56\n",
      "          19       0.72      0.79      0.75       613\n",
      "          20       0.79      0.80      0.80       743\n",
      "          21       0.82      0.79      0.80       357\n",
      "          23       1.00      0.94      0.97        62\n",
      "          24       0.99      1.00      1.00       666\n",
      "          25       1.00      0.97      0.99       236\n",
      "          26       0.99      0.99      0.99       120\n",
      "          27       0.84      0.90      0.87      3600\n",
      "          28       0.89      0.87      0.88       289\n",
      "          29       0.85      0.86      0.85      2730\n",
      "          30       0.79      0.83      0.81       998\n",
      "          31       0.76      0.62      0.68        63\n",
      "          32       0.80      0.83      0.82       396\n",
      "          33       0.44      0.40      0.42        10\n",
      "          34       0.92      0.74      0.82       105\n",
      "          36       0.67      0.62      0.65       456\n",
      "          38       0.87      0.70      0.78        77\n",
      "          39       0.78      0.66      0.71       386\n",
      "          40       0.70      0.44      0.54       175\n",
      "          42       0.94      0.91      0.92        99\n",
      "          81       0.79      0.46      0.58        95\n",
      "          82       0.79      0.72      0.75        83\n",
      "          83       0.88      0.85      0.86       257\n",
      "          84       0.89      0.94      0.92       534\n",
      "          85       0.98      0.94      0.96        67\n",
      "          86       0.00      0.00      0.00         1\n",
      "          87       0.75      0.75      0.75       208\n",
      "          88       0.78      0.74      0.76       341\n",
      "          89       0.88      0.84      0.86        58\n",
      "          90       0.96      0.94      0.95        69\n",
      "          91       0.75      0.50      0.60        12\n",
      "          92       0.89      0.71      0.79        24\n",
      "          93       0.85      0.69      0.76        64\n",
      "          94       0.71      0.58      0.64        72\n",
      "          96       0.88      0.66      0.75        64\n",
      "          97       0.89      0.79      0.84       117\n",
      "          98       0.92      0.82      0.86        82\n",
      "          99       0.79      0.66      0.72        98\n",
      "         101       0.84      0.78      0.81       341\n",
      "         102       0.62      0.36      0.45        56\n",
      "         105       0.90      0.80      0.85       101\n",
      "         106       0.89      0.86      0.88       102\n",
      "         111       0.96      0.90      0.93       124\n",
      "         112       0.92      0.56      0.70        62\n",
      "         114       0.82      0.80      0.81       527\n",
      "         116       0.82      0.43      0.56        21\n",
      "\n",
      "    accuracy                           0.86     20000\n",
      "   macro avg       0.82      0.73      0.77     20000\n",
      "weighted avg       0.85      0.86      0.85     20000\n",
      "\n"
     ]
    },
    {
     "name": "stderr",
     "output_type": "stream",
     "text": [
      "/opt/conda/lib/python3.7/site-packages/sklearn/metrics/_classification.py:1245: UndefinedMetricWarning: Precision and F-score are ill-defined and being set to 0.0 in labels with no predicted samples. Use `zero_division` parameter to control this behavior.\n",
      "  _warn_prf(average, modifier, msg_start, len(result))\n",
      "/opt/conda/lib/python3.7/site-packages/sklearn/metrics/_classification.py:1245: UndefinedMetricWarning: Precision and F-score are ill-defined and being set to 0.0 in labels with no predicted samples. Use `zero_division` parameter to control this behavior.\n",
      "  _warn_prf(average, modifier, msg_start, len(result))\n",
      "/opt/conda/lib/python3.7/site-packages/sklearn/metrics/_classification.py:1245: UndefinedMetricWarning: Precision and F-score are ill-defined and being set to 0.0 in labels with no predicted samples. Use `zero_division` parameter to control this behavior.\n",
      "  _warn_prf(average, modifier, msg_start, len(result))\n"
     ]
    }
   ],
   "source": [
    "print(classification_report(y_test, sgd_tfidf_y_pred_2))"
   ]
  },
  {
   "cell_type": "markdown",
   "metadata": {},
   "source": [
    "Как видно, при добавлении параметра max_df=0.9 качество не изменилось (совсем немного на train поменялось, но это незначительно, так как на тесте осталось таким же).\n",
    "Посмотрю на размер матриц"
   ]
  },
  {
   "cell_type": "code",
   "execution_count": 45,
   "metadata": {},
   "outputs": [
    {
     "data": {
      "text/plain": [
       "<80000x79883 sparse matrix of type '<class 'numpy.float64'>'\n",
       "\twith 1989045 stored elements in Compressed Sparse Row format>"
      ]
     },
     "execution_count": 45,
     "metadata": {},
     "output_type": "execute_result"
    }
   ],
   "source": [
    "tfidf"
   ]
  },
  {
   "cell_type": "code",
   "execution_count": 46,
   "metadata": {},
   "outputs": [
    {
     "data": {
      "text/plain": [
       "<80000x79883 sparse matrix of type '<class 'numpy.float64'>'\n",
       "\twith 1989045 stored elements in Compressed Sparse Row format>"
      ]
     },
     "execution_count": 46,
     "metadata": {},
     "output_type": "execute_result"
    }
   ],
   "source": [
    "tfidf_2"
   ]
  },
  {
   "cell_type": "markdown",
   "metadata": {},
   "source": [
    "Также парамерт max_df=0.9 не повлиял и на размер разреженной матрицы"
   ]
  },
  {
   "cell_type": "markdown",
   "metadata": {},
   "source": [
    "**ЗАДАНИЕ 9**"
   ]
  },
  {
   "cell_type": "code",
   "execution_count": 47,
   "metadata": {},
   "outputs": [],
   "source": [
    "from sklearn.feature_extraction.text import HashingVectorizer"
   ]
  },
  {
   "cell_type": "code",
   "execution_count": 48,
   "metadata": {},
   "outputs": [
    {
     "name": "stderr",
     "output_type": "stream",
     "text": [
      "/opt/conda/lib/python3.7/site-packages/sklearn/feature_extraction/text.py:489: UserWarning: The parameter 'token_pattern' will not be used since 'tokenizer' is not None'\n",
      "  warnings.warn(\"The parameter 'token_pattern' will not be used\"\n"
     ]
    }
   ],
   "source": [
    "hash_vect = HashingVectorizer(tokenizer=my_tokenizer, n_features=30000)\n",
    "my_hash = hash_vect.fit_transform(X_train)\n",
    "my_hash_test = hash_vect.transform(X_test)"
   ]
  },
  {
   "cell_type": "code",
   "execution_count": 49,
   "metadata": {},
   "outputs": [],
   "source": [
    "scaler_hash = MaxAbsScaler()\n",
    "my_hash = scaler_hash.fit_transform(my_hash)\n",
    "my_hash_test = scaler_hash.transform(my_hash_test)"
   ]
  },
  {
   "cell_type": "code",
   "execution_count": 50,
   "metadata": {},
   "outputs": [],
   "source": [
    "sgd_hash = SGDClassifier(loss='modified_huber')\n",
    "sgd_hash.fit(my_hash, y_train)\n",
    "sgd_hash_y_pred_train = sgd_hash.predict(my_hash)\n",
    "sgd_hash_y_pred = sgd_hash.predict(my_hash_test)"
   ]
  },
  {
   "cell_type": "code",
   "execution_count": 51,
   "metadata": {},
   "outputs": [
    {
     "name": "stdout",
     "output_type": "stream",
     "text": [
      "Train:  0.9411125\n",
      "Test:  0.8411\n"
     ]
    }
   ],
   "source": [
    "print(\"Train: \", np.mean(sgd_hash_y_pred_train==y_train))\n",
    "print(\"Test: \", np.mean(sgd_hash_y_pred==y_test))"
   ]
  },
  {
   "cell_type": "code",
   "execution_count": 52,
   "metadata": {
    "scrolled": true
   },
   "outputs": [
    {
     "name": "stdout",
     "output_type": "stream",
     "text": [
      "              precision    recall  f1-score   support\n",
      "\n",
      "           9       0.93      0.93      0.93       585\n",
      "          10       0.91      0.96      0.93      3579\n",
      "          11       0.73      0.58      0.65        19\n",
      "          14       0.96      0.48      0.64        56\n",
      "          19       0.68      0.74      0.71       613\n",
      "          20       0.78      0.80      0.79       743\n",
      "          21       0.79      0.77      0.78       357\n",
      "          23       1.00      0.94      0.97        62\n",
      "          24       0.99      1.00      0.99       666\n",
      "          25       1.00      0.97      0.99       236\n",
      "          26       0.99      0.99      0.99       120\n",
      "          27       0.81      0.90      0.86      3600\n",
      "          28       0.89      0.83      0.86       289\n",
      "          29       0.85      0.83      0.84      2730\n",
      "          30       0.77      0.80      0.78       998\n",
      "          31       0.86      0.59      0.70        63\n",
      "          32       0.79      0.80      0.79       396\n",
      "          33       0.50      0.50      0.50        10\n",
      "          34       0.88      0.68      0.76       105\n",
      "          36       0.69      0.60      0.64       456\n",
      "          38       0.83      0.62      0.71        77\n",
      "          39       0.75      0.62      0.68       386\n",
      "          40       0.73      0.42      0.53       175\n",
      "          42       0.94      0.91      0.92        99\n",
      "          81       0.83      0.40      0.54        95\n",
      "          82       0.81      0.65      0.72        83\n",
      "          83       0.86      0.83      0.84       257\n",
      "          84       0.89      0.92      0.90       534\n",
      "          85       0.97      0.97      0.97        67\n",
      "          86       0.00      0.00      0.00         1\n",
      "          87       0.72      0.68      0.70       208\n",
      "          88       0.77      0.69      0.73       341\n",
      "          89       0.92      0.84      0.88        58\n",
      "          90       0.96      0.93      0.94        69\n",
      "          91       0.71      0.42      0.53        12\n",
      "          92       0.88      0.62      0.73        24\n",
      "          93       0.88      0.58      0.70        64\n",
      "          94       0.74      0.51      0.61        72\n",
      "          96       0.95      0.66      0.78        64\n",
      "          97       0.92      0.75      0.83       117\n",
      "          98       0.90      0.77      0.83        82\n",
      "          99       0.86      0.62      0.72        98\n",
      "         101       0.78      0.79      0.79       341\n",
      "         102       0.62      0.27      0.38        56\n",
      "         105       0.87      0.71      0.78       101\n",
      "         106       0.83      0.80      0.82       102\n",
      "         111       0.93      0.91      0.92       124\n",
      "         112       0.89      0.52      0.65        62\n",
      "         114       0.77      0.79      0.78       527\n",
      "         116       0.80      0.38      0.52        21\n",
      "\n",
      "    accuracy                           0.84     20000\n",
      "   macro avg       0.82      0.71      0.75     20000\n",
      "weighted avg       0.84      0.84      0.84     20000\n",
      "\n"
     ]
    },
    {
     "name": "stderr",
     "output_type": "stream",
     "text": [
      "/opt/conda/lib/python3.7/site-packages/sklearn/metrics/_classification.py:1245: UndefinedMetricWarning: Precision and F-score are ill-defined and being set to 0.0 in labels with no predicted samples. Use `zero_division` parameter to control this behavior.\n",
      "  _warn_prf(average, modifier, msg_start, len(result))\n",
      "/opt/conda/lib/python3.7/site-packages/sklearn/metrics/_classification.py:1245: UndefinedMetricWarning: Precision and F-score are ill-defined and being set to 0.0 in labels with no predicted samples. Use `zero_division` parameter to control this behavior.\n",
      "  _warn_prf(average, modifier, msg_start, len(result))\n",
      "/opt/conda/lib/python3.7/site-packages/sklearn/metrics/_classification.py:1245: UndefinedMetricWarning: Precision and F-score are ill-defined and being set to 0.0 in labels with no predicted samples. Use `zero_division` parameter to control this behavior.\n",
      "  _warn_prf(average, modifier, msg_start, len(result))\n"
     ]
    }
   ],
   "source": [
    "print(classification_report(y_test, sgd_hash_y_pred))"
   ]
  },
  {
   "cell_type": "markdown",
   "metadata": {},
   "source": [
    "Самое хорошее качество получилось с использованием TfidfVectorizer, при чём max_df=0.9 не повлиял на качество."
   ]
  },
  {
   "cell_type": "code",
   "execution_count": null,
   "metadata": {},
   "outputs": [],
   "source": []
  }
 ],
 "metadata": {
  "kernelspec": {
   "display_name": "Python 3",
   "language": "python",
   "name": "python3"
  },
  "language_info": {
   "codemirror_mode": {
    "name": "ipython",
    "version": 3
   },
   "file_extension": ".py",
   "mimetype": "text/x-python",
   "name": "python",
   "nbconvert_exporter": "python",
   "pygments_lexer": "ipython3",
   "version": "3.8.3"
  }
 },
 "nbformat": 4,
 "nbformat_minor": 4
}
