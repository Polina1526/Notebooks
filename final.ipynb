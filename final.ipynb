{
 "cells": [
  {
   "cell_type": "code",
   "execution_count": null,
   "metadata": {
    "_cell_guid": "b1076dfc-b9ad-4769-8c92-a6c4dae69d19",
    "_uuid": "8f2839f25d086af736a60e9eeb907d3b93b6e0e5"
   },
   "outputs": [],
   "source": [
    "# This Python 3 environment comes with many helpful analytics libraries installed\n",
    "# It is defined by the kaggle/python Docker image: https://github.com/kaggle/docker-python\n",
    "# For example, here's several helpful packages to load\n",
    "\n",
    "import numpy as np # linear algebra\n",
    "import pandas as pd # data processing, CSV file I/O (e.g. pd.read_csv)\n",
    "\n",
    "# Input data files are available in the read-only \"../input/\" directory\n",
    "# For example, running this (by clicking run or pressing Shift+Enter) will list all files under the input directory\n",
    "\n",
    "import os\n",
    "for dirname, _, filenames in os.walk('/kaggle/input'):\n",
    "    for filename in filenames:\n",
    "        print(os.path.join(dirname, filename))\n",
    "\n",
    "# You can write up to 20GB to the current directory (/kaggle/working/) that gets preserved as output when you create a version using \"Save & Run All\" \n",
    "# You can also write temporary files to /kaggle/temp/, but they won't be saved outside of the current session"
   ]
  },
  {
   "cell_type": "code",
   "execution_count": null,
   "metadata": {},
   "outputs": [],
   "source": [
    "train = pd.read_csv('/kaggle/input/avito-category-prediction/train.csv')\n",
    "test = pd.read_csv('/kaggle/input/avito-category-prediction/test.csv')\n",
    "\n",
    "train.loc[train.description.isna(), \"description\"] = \"\"\n",
    "test.loc[test.description.isna(), \"description\"] = \"\"\n",
    "\n",
    "train[\"info\"] = train[\"title\"] + \" \" + train[\"description\"]\n",
    "test[\"info\"] = test[\"title\"] + \" \" + test[\"description\"]\n",
    "\n",
    "train = train.drop([\"title\", \"description\"], axis=1)\n",
    "test = test.drop([\"title\", \"description\"], axis=1)"
   ]
  },
  {
   "cell_type": "code",
   "execution_count": null,
   "metadata": {},
   "outputs": [],
   "source": [
    "import re\n",
    "from nltk.tokenize import word_tokenize\n",
    "from string import punctuation\n",
    "from nltk.corpus import stopwords\n",
    "from nltk.stem.snowball import SnowballStemmer\n",
    "\n",
    "from sklearn.feature_extraction.text import TfidfVectorizer\n",
    "from sklearn.preprocessing import MaxAbsScaler\n",
    "from sklearn.linear_model import SGDClassifier"
   ]
  },
  {
   "cell_type": "code",
   "execution_count": null,
   "metadata": {},
   "outputs": [],
   "source": [
    "def my_tokenizer(string: str) -> list:   \n",
    "    words = word_tokenize(string.lower())\n",
    "    \n",
    "    trash = re.compile(r'[\\W\\d_]')\n",
    "    sw_set = set(stopwords.words('russian'))\n",
    "    words = [token for token in words\n",
    "            if not (trash.search(token) or token in sw_set)]\n",
    "    \n",
    "    stemmer = SnowballStemmer(\"russian\")\n",
    "    return [*map(stemmer.stem, words)]"
   ]
  },
  {
   "cell_type": "code",
   "execution_count": null,
   "metadata": {},
   "outputs": [],
   "source": [
    "np.random.seed(12345)\n",
    "batch_train = train.sample(500000)\n",
    "batch_train.head()"
   ]
  },
  {
   "cell_type": "code",
   "execution_count": null,
   "metadata": {},
   "outputs": [],
   "source": [
    "tfidf_vec = TfidfVectorizer(tokenizer=my_tokenizer, max_df=0.9)\n",
    "tfidf = tfidf_vec.fit_transform(batch_train[\"info\"])\n",
    "tfidf_test = tfidf_vec.transform(test[\"info\"])\n",
    "\n",
    "scaler_tfidf = MaxAbsScaler()\n",
    "tfidf = scaler_tfidf.fit_transform(tfidf)\n",
    "tfidf_test = scaler_tfidf.transform(tfidf_test)"
   ]
  },
  {
   "cell_type": "code",
   "execution_count": null,
   "metadata": {},
   "outputs": [],
   "source": [
    "sgd_tfidf = SGDClassifier(loss='modified_huber')\n",
    "sgd_tfidf.fit(tfidf, batch_train[\"Category\"])\n",
    "prediction = sgd_tfidf.predict(tfidf_test)"
   ]
  },
  {
   "cell_type": "code",
   "execution_count": null,
   "metadata": {},
   "outputs": [],
   "source": [
    "answer = (pd.DataFrame(test[\"itemid\"])).join(pd.DataFrame(prediction))\n",
    "answer = answer.rename({\"itemid\": \"Id\", 0: \"Category\"}, axis='columns')\n",
    "answer.to_csv(\"submission.csv\", index=False)"
   ]
  }
 ],
 "metadata": {
  "kernelspec": {
   "display_name": "Python 3",
   "language": "python",
   "name": "python3"
  },
  "language_info": {
   "codemirror_mode": {
    "name": "ipython",
    "version": 3
   },
   "file_extension": ".py",
   "mimetype": "text/x-python",
   "name": "python",
   "nbconvert_exporter": "python",
   "pygments_lexer": "ipython3",
   "version": "3.8.3"
  }
 },
 "nbformat": 4,
 "nbformat_minor": 4
}
